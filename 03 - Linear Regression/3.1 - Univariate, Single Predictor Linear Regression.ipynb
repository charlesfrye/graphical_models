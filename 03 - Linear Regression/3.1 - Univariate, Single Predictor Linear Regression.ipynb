{
 "cells": [
  {
   "cell_type": "markdown",
   "metadata": {},
   "source": [
    "# 3.1 - Univariate, Single Predictor Linear Regression"
   ]
  },
  {
   "cell_type": "markdown",
   "metadata": {},
   "source": [
    "#### Disclaimer:\n",
    "\n",
    "IQ is, at best, a misleading measure of a poorly-defined social construct\n",
    "and, at worst, a nefarious tool of social control and scientific racism at worst.\n",
    "I'm merely using this data because it is freely available\n",
    "and I can work off of pre-existing examples."
   ]
  },
  {
   "cell_type": "code",
   "execution_count": 1,
   "metadata": {},
   "outputs": [],
   "source": [
    "import pystan"
   ]
  },
  {
   "cell_type": "code",
   "execution_count": 2,
   "metadata": {},
   "outputs": [],
   "source": [
    "import statsmodels.formula.api as smf"
   ]
  },
  {
   "cell_type": "code",
   "execution_count": 3,
   "metadata": {},
   "outputs": [],
   "source": [
    "import numpy as np\n",
    "import pandas as pd\n",
    "import seaborn as sns\n",
    "import matplotlib.pyplot as plt\n",
    "\n",
    "sns.set(font_scale=3)"
   ]
  },
  {
   "cell_type": "code",
   "execution_count": 4,
   "metadata": {},
   "outputs": [],
   "source": [
    "%matplotlib inline"
   ]
  },
  {
   "cell_type": "markdown",
   "metadata": {},
   "source": [
    "Data can be downloaded from [here](http://www.stat.columbia.edu/~gelman/arm/software/)."
   ]
  },
  {
   "cell_type": "markdown",
   "metadata": {},
   "source": [
    "We start with the simplest model: univariate binary linear regression with a Gaussian noise model,\n",
    "aka fitting our data as binary mixture of Gaussians with the same variance."
   ]
  },
  {
   "cell_type": "markdown",
   "metadata": {},
   "source": [
    "## Visualizing the Data"
   ]
  },
  {
   "cell_type": "markdown",
   "metadata": {},
   "source": [
    "We first load the data."
   ]
  },
  {
   "cell_type": "code",
   "execution_count": 5,
   "metadata": {},
   "outputs": [
    {
     "data": {
      "text/html": [
       "<div>\n",
       "<style scoped>\n",
       "    .dataframe tbody tr th:only-of-type {\n",
       "        vertical-align: middle;\n",
       "    }\n",
       "\n",
       "    .dataframe tbody tr th {\n",
       "        vertical-align: top;\n",
       "    }\n",
       "\n",
       "    .dataframe thead th {\n",
       "        text-align: right;\n",
       "    }\n",
       "</style>\n",
       "<table border=\"1\" class=\"dataframe\">\n",
       "  <thead>\n",
       "    <tr style=\"text-align: right;\">\n",
       "      <th></th>\n",
       "      <th>kid_score</th>\n",
       "      <th>mom_hs</th>\n",
       "      <th>mom_iq</th>\n",
       "      <th>mom_work</th>\n",
       "      <th>mom_age</th>\n",
       "    </tr>\n",
       "  </thead>\n",
       "  <tbody>\n",
       "    <tr>\n",
       "      <th>0</th>\n",
       "      <td>65</td>\n",
       "      <td>1.0</td>\n",
       "      <td>121.117529</td>\n",
       "      <td>4</td>\n",
       "      <td>27</td>\n",
       "    </tr>\n",
       "    <tr>\n",
       "      <th>1</th>\n",
       "      <td>98</td>\n",
       "      <td>1.0</td>\n",
       "      <td>89.361882</td>\n",
       "      <td>4</td>\n",
       "      <td>25</td>\n",
       "    </tr>\n",
       "    <tr>\n",
       "      <th>2</th>\n",
       "      <td>85</td>\n",
       "      <td>1.0</td>\n",
       "      <td>115.443165</td>\n",
       "      <td>4</td>\n",
       "      <td>27</td>\n",
       "    </tr>\n",
       "    <tr>\n",
       "      <th>3</th>\n",
       "      <td>83</td>\n",
       "      <td>1.0</td>\n",
       "      <td>99.449639</td>\n",
       "      <td>3</td>\n",
       "      <td>25</td>\n",
       "    </tr>\n",
       "    <tr>\n",
       "      <th>4</th>\n",
       "      <td>115</td>\n",
       "      <td>1.0</td>\n",
       "      <td>92.745710</td>\n",
       "      <td>4</td>\n",
       "      <td>27</td>\n",
       "    </tr>\n",
       "  </tbody>\n",
       "</table>\n",
       "</div>"
      ],
      "text/plain": [
       "   kid_score  mom_hs      mom_iq  mom_work  mom_age\n",
       "0         65     1.0  121.117529         4       27\n",
       "1         98     1.0   89.361882         4       25\n",
       "2         85     1.0  115.443165         4       27\n",
       "3         83     1.0   99.449639         3       25\n",
       "4        115     1.0   92.745710         4       27"
      ]
     },
     "execution_count": 5,
     "metadata": {},
     "output_type": "execute_result"
    }
   ],
   "source": [
    "kid_path = \"../ARM_Data/child.iq/kidiq.dta\"\n",
    "kid_df =  pd.io.stata.read_stata(kid_path)\n",
    "kid_df.head()"
   ]
  },
  {
   "cell_type": "markdown",
   "metadata": {},
   "source": [
    "And then we pick an appropriate visualization.\n",
    "\n",
    "The model we've chosen to start with\n",
    "splits the data into groups based off of one variable,\n",
    "and then predicts the target variable by the group means,\n",
    "so a good visualization should split the data into those groups.\n",
    "\n",
    "For example:"
   ]
  },
  {
   "cell_type": "code",
   "execution_count": 6,
   "metadata": {},
   "outputs": [
    {
     "data": {
      "image/png": "[encoded data removed]",
      "text/plain": [
       "<matplotlib.figure.Figure at 0x1a179e12e8>"
      ]
     },
     "metadata": {},
     "output_type": "display_data"
    }
   ],
   "source": [
    "g = sns.FacetGrid(kid_df, hue=\"mom_hs\", size=6, aspect=2)\n",
    "g = g.map(sns.distplot, \"kid_score\", rug=True, kde_kws = {'linewidth':6},\n",
    "          hist_kws = {\"histtype\":\"step\", \"alpha\":0.8, \"linewidth\":2},\n",
    "         )\n",
    "plt.legend();"
   ]
  },
  {
   "cell_type": "markdown",
   "metadata": {},
   "source": [
    "This data doesn't look like a perfect fit for a linear model:\n",
    "though the shapes of the distributions are somewhat similar,\n",
    "they are not very Gaussian."
   ]
  },
  {
   "cell_type": "markdown",
   "metadata": {},
   "source": [
    "We soldier on regardless, because this is a classic example."
   ]
  },
  {
   "cell_type": "markdown",
   "metadata": {},
   "source": [
    "## Traditional Least Squares in `statsmodels`"
   ]
  },
  {
   "cell_type": "markdown",
   "metadata": {},
   "source": [
    "`statsmodels` is a package for describing and fitting various generalized linear models."
   ]
  },
  {
   "cell_type": "markdown",
   "metadata": {},
   "source": [
    "Our model is an `o`rdinary `l`east `s`quares model.\n",
    "We will attempt to predict child IQ using only knowledge\n",
    "of whether the child's mother completed high school.\n",
    "\n",
    "Let $y$ denote a vector of child IQs,\n",
    "$x$ denote the matched vector of booleans indicating\n",
    "maternal high school completion,\n",
    "and $i$ index children.\n",
    "\n",
    "We define a model, or mapping $\\{0,1\\}\\rightarrow\\mathbb{R}$,\n",
    "parameterized by $\\beta_0$ and $\\beta_1$ such that"
   ]
  },
  {
   "cell_type": "markdown",
   "metadata": {},
   "source": [
    "$$\n",
    "y_i = x_i\\cdot \\beta_0 + \\beta_1 + \\epsilon_i\n",
    "$$"
   ]
  },
  {
   "cell_type": "markdown",
   "metadata": {},
   "source": [
    "where this equation serves as a definition of $\\epsilon$."
   ]
  },
  {
   "cell_type": "markdown",
   "metadata": {},
   "source": [
    "Our goal is to make the squared value of $\\epsilon$ as small as possible.\n",
    "\n",
    "We do this via the appropriately named method of *least squares*."
   ]
  },
  {
   "cell_type": "markdown",
   "metadata": {},
   "source": [
    "We first select random training and test sets to fit our models to."
   ]
  },
  {
   "cell_type": "code",
   "execution_count": 7,
   "metadata": {},
   "outputs": [],
   "source": [
    "def train_test_split(df, train_fraction=0.8):\n",
    "    total_N = len(kid_df)\n",
    "    test_fraction = 1-train_fraction\n",
    "    \n",
    "    train_set_size = int(total_N*train_fraction); test_set_size = total_N - train_set_size\n",
    "\n",
    "    train_set_indices = np.random.choice(total_N, size=train_set_size, replace=False)\n",
    "    \n",
    "    train_df = df.iloc[train_set_indices]\n",
    "    test_df = df.iloc[[index for index in range(total_N) if index not in train_set_indices]]\n",
    "    \n",
    "    return train_df, test_df"
   ]
  },
  {
   "cell_type": "code",
   "execution_count": 8,
   "metadata": {},
   "outputs": [],
   "source": [
    "train_df, test_df = train_test_split(kid_df)"
   ]
  },
  {
   "cell_type": "markdown",
   "metadata": {},
   "source": [
    "We now pass the training set and an R-style description of our model,\n",
    "called a *formula*, to `statsmodels`,\n",
    "and it will fit the $\\beta$ parameters.\n",
    "\n",
    "Formulas will later allow us to express very complex models,\n",
    "with multiple levels, hidden variables, and (fixed) nonlinear data transforms.\n",
    "For now, because our model is so simple,\n",
    "the formula is exceedingly simple as well:\n",
    "\n",
    "```\n",
    "y ~ x\n",
    "```\n",
    "\n",
    "where `y` and `x` are the variable names."
   ]
  },
  {
   "cell_type": "code",
   "execution_count": 9,
   "metadata": {},
   "outputs": [],
   "source": [
    "mom_hs_mod = smf.ols(\"kid_score ~ mom_hs\", data=train_df)\n",
    "\n",
    "mom_hs_results = mom_hs_mod.fit()"
   ]
  },
  {
   "cell_type": "markdown",
   "metadata": {},
   "source": [
    "We print the results."
   ]
  },
  {
   "cell_type": "code",
   "execution_count": 10,
   "metadata": {},
   "outputs": [
    {
     "name": "stdout",
     "output_type": "stream",
     "text": [
      "                            OLS Regression Results                            \n",
      "==============================================================================\n",
      "Dep. Variable:              kid_score   R-squared:                       0.066\n",
      "Model:                            OLS   Adj. R-squared:                  0.064\n",
      "Method:                 Least Squares   F-statistic:                     24.49\n",
      "Date:                Mon, 26 Feb 2018   Prob (F-statistic):           1.17e-06\n",
      "Time:                        11:44:13   Log-Likelihood:                -1530.7\n",
      "No. Observations:                 347   AIC:                             3065.\n",
      "Df Residuals:                     345   BIC:                             3073.\n",
      "Df Model:                           1                                         \n",
      "Covariance Type:            nonrobust                                         \n",
      "==============================================================================\n",
      "                 coef    std err          t      P>|t|      [0.025      0.975]\n",
      "------------------------------------------------------------------------------\n",
      "Intercept     76.9481      2.278     33.783      0.000      72.468      81.428\n",
      "mom_hs        12.7779      2.582      4.949      0.000       7.699      17.857\n",
      "==============================================================================\n",
      "Omnibus:                        7.743   Durbin-Watson:                   1.819\n",
      "Prob(Omnibus):                  0.021   Jarque-Bera (JB):                8.001\n",
      "Skew:                          -0.362   Prob(JB):                       0.0183\n",
      "Kurtosis:                       2.826   Cond. No.                         4.03\n",
      "==============================================================================\n",
      "\n",
      "Warnings:\n",
      "[1] Standard Errors assume that the covariance matrix of the errors is correctly specified.\n"
     ]
    }
   ],
   "source": [
    "print(mom_hs_results.summary())"
   ]
  },
  {
   "cell_type": "markdown",
   "metadata": {},
   "source": [
    "Here, $\\beta_1$ is called the `Intercept` for obvious reasons,\n",
    "while $\\beta_0$ inherits the name `mom_hs` from our dataframe.\n",
    "\n",
    "We note the following:\n",
    "1. Child IQs are significantly different from 0 (whew).\n",
    "1. Maternal high school achievement has a highly *statistically* significant effect on child IQ: `p<5e-4`.\n",
    "1. Our predicted IQ for a child of a mother who finished high school is 11 points higher than that for a child whose mother didn't finish high school. \n",
    "1. The $R^2$ values are miniscule, indicating this relationship is very weak."
   ]
  },
  {
   "cell_type": "markdown",
   "metadata": {},
   "source": [
    "The first-pass interpretation of these results is that\n",
    "the maternal educational attainment has a weak, but detectable relationship to child IQ\n",
    "(note we can't infer causation here).\n",
    "\n",
    "Exactly how weak is this relationship though?\n",
    "We already have a sense that the relationship is weak,\n",
    "from the $R^2$ value,\n",
    "but I personally have a hard time just reading these values\n",
    "and getting a gut feeling for the strength of the relationship."
   ]
  },
  {
   "cell_type": "markdown",
   "metadata": {},
   "source": [
    "I prefer to look at the errors our model makes instead.\n",
    "\n",
    "First, we get model predictions for unseen data points\n",
    "(so that we don't fool ourselves into thinking our model is better than it is)."
   ]
  },
  {
   "cell_type": "code",
   "execution_count": 11,
   "metadata": {},
   "outputs": [],
   "source": [
    "mom_hs_predicted_kid_scores = mom_hs_results.get_prediction(test_df).predicted_mean"
   ]
  },
  {
   "cell_type": "markdown",
   "metadata": {},
   "source": [
    "Then, we compute the mean squared error and root mean squared error of those predictions."
   ]
  },
  {
   "cell_type": "code",
   "execution_count": 12,
   "metadata": {},
   "outputs": [
    {
     "data": {
      "text/plain": [
       "19.425723956744566"
      ]
     },
     "execution_count": 12,
     "metadata": {},
     "output_type": "execute_result"
    }
   ],
   "source": [
    "mom_hs_errors = test_df.kid_score-mom_hs_predicted_kid_scores\n",
    "mom_hs_mse = np.var(mom_hs_errors,ddof=1)\n",
    "mom_hs_rmse = np.sqrt(mom_hs_mse)\n",
    "mom_hs_rmse"
   ]
  },
  {
   "cell_type": "markdown",
   "metadata": {},
   "source": [
    "Compare this model error to the putative effect size, $\\approx 11.5$.\n",
    "The model error is larger,\n",
    "indicating that variation in IQ related to factors we didn't consider\n",
    "is larger than the variation in IQ related to maternal high school graduation."
   ]
  },
  {
   "cell_type": "markdown",
   "metadata": {},
   "source": [
    "An alternative metric for model utility is to compare the average squared error of the model\n",
    "to the average squared error of the best model that is ignorant of the value of `x`:\n",
    "a model that just predicts each child has the average IQ of the cohort.\n",
    "\n",
    "We take the ratio of these two quantities \n",
    "to determine just how much squared error is,\n",
    "on average, left over when we include our model prediction."
   ]
  },
  {
   "cell_type": "code",
   "execution_count": 13,
   "metadata": {},
   "outputs": [
    {
     "data": {
      "text/plain": [
       "0.9903442519395147"
      ]
     },
     "execution_count": 13,
     "metadata": {},
     "output_type": "execute_result"
    }
   ],
   "source": [
    "mom_hs_remaining_variance = mom_hs_mse/test_df.kid_score.var()\n",
    "mom_hs_remaining_variance"
   ]
  },
  {
   "cell_type": "markdown",
   "metadata": {},
   "source": [
    "Not too compelling."
   ]
  },
  {
   "cell_type": "markdown",
   "metadata": {},
   "source": [
    "## Bayesian Regression in `stan`: First Pass"
   ]
  },
  {
   "cell_type": "markdown",
   "metadata": {},
   "source": [
    "In Bayesian regression,\n",
    "we instead compute posteriors over our parameters\n",
    "and our missing data.\n",
    "\n",
    "This is substantially more complex than making point estimates,\n",
    "and this is reflected in the greater complexity and computational load\n",
    "of packages for Bayesian regression (and inference in general)."
   ]
  },
  {
   "cell_type": "markdown",
   "metadata": {},
   "source": [
    "`stan` is one such package -- fundamentally, it is a `C++` package that we interact with from Python.\n",
    "To start, we must specify our variables in a `C`-style syntax."
   ]
  },
  {
   "cell_type": "markdown",
   "metadata": {},
   "source": [
    "The following code is adopted from [this tutorial on Bayesian regression](https://www.r-bloggers.com/bayesian-regression-with-stan-part-1-normal-regression/)."
   ]
  },
  {
   "cell_type": "markdown",
   "metadata": {},
   "source": [
    "To work with `stan`, we must slightly reorient our thinking.\n",
    "Instead of specifying the model component-wise,\n",
    "we specify it as collection of matrix and vector operations:"
   ]
  },
  {
   "cell_type": "markdown",
   "metadata": {},
   "source": [
    "$$\n",
    "Y = X\\cdot\\beta + \\epsilon\n",
    "$$"
   ]
  },
  {
   "cell_type": "markdown",
   "metadata": {},
   "source": [
    "where $Y$ is a matrix of observed values (here an $N \\times 1$ matrix)\n",
    "and $X$ is the so-called \"design\" matrix and has dimensions $(N,K)$.\n",
    "It contains the values of the predictor in its first column.\n",
    "In general, it's allowed to have any other potential predictor\n",
    "as its other columns, including non-linear transformations $\\phi_i$ of other predictors.\n",
    "\n",
    "Recall that we wanted our model to include an *affine* transformation,\n",
    "aka a non-zero intercept.\n",
    "To mimic this affine transformation,\n",
    "we choose the non-linear transformation\n",
    "$$\n",
    "\\phi_1(x) = 1\n",
    "$$\n",
    "to generate the second column of $X$.\n",
    "That is, the second column of $X$ is just a column of $1$s,\n",
    "allowing us to \"cheat\" and represent an affine transformation with linear operations."
   ]
  },
  {
   "cell_type": "markdown",
   "metadata": {},
   "source": [
    "We begin by specifying the shapes and types of the things we will provide the model:\n",
    "the testing data and the training data (in the form of the design matrix)."
   ]
  },
  {
   "cell_type": "code",
   "execution_count": 14,
   "metadata": {},
   "outputs": [],
   "source": [
    "data_code = \"\"\"data {\n",
    "  int N_train; //the number of training set examples\n",
    "  int N_test; //the number of test set examples\n",
    "  int K; //the number of columns in the model matrix\n",
    "  real y[N_train]; //the response\n",
    "  matrix[N_train,K] train_X; //the design matrix for the training set\n",
    "  matrix[N_test,K] test_X; //the design matrix for the test set\n",
    "}\"\"\""
   ]
  },
  {
   "cell_type": "markdown",
   "metadata": {},
   "source": [
    "We then specify the parameters of the model,\n",
    "which now include a standard deviation for the errors."
   ]
  },
  {
   "cell_type": "code",
   "execution_count": 15,
   "metadata": {},
   "outputs": [],
   "source": [
    "parameters_code = \"\"\"parameters {\n",
    "  vector[K] beta; //the regression parameters\n",
    "  real<lower=0> sigma; //the standard deviation\n",
    "}\"\"\""
   ]
  },
  {
   "cell_type": "markdown",
   "metadata": {},
   "source": [
    "We now specify how the model's predictions are generated from its parameters."
   ]
  },
  {
   "cell_type": "code",
   "execution_count": 16,
   "metadata": {},
   "outputs": [],
   "source": [
    "prediction_code = \"\"\"transformed parameters {\n",
    "  vector[N_train] linear_prediction;\n",
    "  linear_prediction <- train_X*beta;\n",
    "}\"\"\""
   ]
  },
  {
   "cell_type": "markdown",
   "metadata": {},
   "source": [
    "Next, we must specify our model:\n",
    "what is the conditional distribution of the target variable?\n",
    "Note for the True Bayesians in the room:\n",
    "by failing to specify a prior for our hyperparameters,\n",
    "we select the default, which is an improper \"flat prior\"."
   ]
  },
  {
   "cell_type": "code",
   "execution_count": 17,
   "metadata": {},
   "outputs": [],
   "source": [
    "model_code = \"\"\"model {  \n",
    "  y ~ normal(linear_prediction,sigma); // conditional of the target\n",
    "}\"\"\""
   ]
  },
  {
   "cell_type": "markdown",
   "metadata": {},
   "source": [
    "Finally, we must specify how predictions are to generated from our model."
   ]
  },
  {
   "cell_type": "code",
   "execution_count": 18,
   "metadata": {},
   "outputs": [],
   "source": [
    "test_prediction_code = \"\"\"generated quantities {\n",
    "  vector[N_test] y_pred;\n",
    "  y_pred <- test_X*beta; //the y values predicted by the model\n",
    "}\"\"\""
   ]
  },
  {
   "cell_type": "markdown",
   "metadata": {},
   "source": [
    "We then combine this together by string concatenation\n",
    "to produce the code for the whole model."
   ]
  },
  {
   "cell_type": "code",
   "execution_count": 19,
   "metadata": {},
   "outputs": [],
   "source": [
    "mom_hs_model_code = data_code+parameters_code+prediction_code+model_code+test_prediction_code"
   ]
  },
  {
   "cell_type": "code",
   "execution_count": 20,
   "metadata": {},
   "outputs": [
    {
     "name": "stderr",
     "output_type": "stream",
     "text": [
      "INFO:pystan:COMPILING THE C++ CODE FOR MODEL mom_hs_45389953cd287b4929d0e5dff33a664d NOW.\n"
     ]
    }
   ],
   "source": [
    "mom_hs_stanmodel = pystan.StanModel(model_code=mom_hs_model_code, model_name='mom_hs')"
   ]
  },
  {
   "cell_type": "markdown",
   "metadata": {},
   "source": [
    "We now construct the design matrices."
   ]
  },
  {
   "cell_type": "code",
   "execution_count": 21,
   "metadata": {},
   "outputs": [],
   "source": [
    "def make_design_matrix(df, var, add_interaction=False):\n",
    "    variables = np.atleast_2d(df[var])\n",
    "    if variables.shape[0] == 1:\n",
    "        variables = variables.T\n",
    "    if add_interaction:\n",
    "        variables = add_interaction_term(variables, cols=[0,1])\n",
    "    return np.hstack([variables, np.expand_dims(make_affine_term(df[var]),axis=1)])\n",
    "\n",
    "def add_interaction_term(design_matrix, cols=[0,1]):\n",
    "    interaction_column = np.expand_dims(np.multiply(design_matrix[:,cols[0]], design_matrix[:,cols[1]]),1)\n",
    "    return np.hstack([design_matrix, interaction_column])\n",
    "\n",
    "def make_affine_term(data):\n",
    "    return np.ones(shape=data.shape[0])\n",
    "\n",
    "mom_hs_design_matrix = make_design_matrix(train_df, \"mom_hs\")\n",
    "mom_hs_test_design_matrix = make_design_matrix(test_df, \"mom_hs\")"
   ]
  },
  {
   "cell_type": "markdown",
   "metadata": {},
   "source": [
    "We organize the model parameters into a dictionary to be fed into the model."
   ]
  },
  {
   "cell_type": "code",
   "execution_count": 22,
   "metadata": {},
   "outputs": [],
   "source": [
    "mom_hs_data = {'N_train': len(train_df),\n",
    "           'N_test': len(test_df),\n",
    "               'K': 2,\n",
    "               'y': train_df.kid_score,\n",
    "              'train_X': mom_hs_design_matrix,\n",
    "          'test_X': mom_hs_test_design_matrix}"
   ]
  },
  {
   "cell_type": "markdown",
   "metadata": {},
   "source": [
    "Computing exactly in Bayesian networks is difficult,\n",
    "so we instead choose to compute approximately, by sampling."
   ]
  },
  {
   "cell_type": "code",
   "execution_count": 23,
   "metadata": {},
   "outputs": [
    {
     "name": "stderr",
     "output_type": "stream",
     "text": [
      "/Users/charlesfrye/anaconda3/envs/graph_models/lib/python3.6/site-packages/pystan/misc.py:399: FutureWarning: Conversion of the second argument of issubdtype from `float` to `np.floating` is deprecated. In future, it will be treated as `np.float64 == np.dtype(float).type`.\n",
      "  elif np.issubdtype(np.asarray(v).dtype, float):\n"
     ]
    }
   ],
   "source": [
    "mom_hs_samples = mom_hs_stanmodel.sampling(data=mom_hs_data, iter=1000, chains=4)"
   ]
  },
  {
   "cell_type": "markdown",
   "metadata": {},
   "source": [
    "In sampling-based Bayesian computation,\n",
    "we compute the expected value of quantities of interest under the (sample-approximated) posterior distribution."
   ]
  },
  {
   "cell_type": "markdown",
   "metadata": {},
   "source": [
    "That is a fancy way of saying that we just compute the desired quantity on each of our samples and take the average."
   ]
  },
  {
   "cell_type": "markdown",
   "metadata": {},
   "source": [
    "To do so,\n",
    "we first extract all of the predictions,\n",
    "compute the error for each score in each sample,\n",
    "and then take the (root) mean square of that entire array of quantities."
   ]
  },
  {
   "cell_type": "code",
   "execution_count": 24,
   "metadata": {},
   "outputs": [],
   "source": [
    "train_predictions = mom_hs_samples.extract(\"linear_prediction\")[\"linear_prediction\"]\n",
    "test_predictions = mom_hs_samples.extract(\"y_pred\")[\"y_pred\"]"
   ]
  },
  {
   "cell_type": "code",
   "execution_count": 25,
   "metadata": {},
   "outputs": [],
   "source": [
    "def compute_errors(predictions, observed_values):\n",
    "    errors = predictions - np.asarray(observed_values)\n",
    "    return errors"
   ]
  },
  {
   "cell_type": "code",
   "execution_count": 26,
   "metadata": {},
   "outputs": [],
   "source": [
    "train_errors = compute_errors(train_predictions, train_df.kid_score)\n",
    "test_errors = compute_errors(test_predictions, test_df.kid_score)"
   ]
  },
  {
   "cell_type": "code",
   "execution_count": 27,
   "metadata": {},
   "outputs": [],
   "source": [
    "mom_hs_samples_mse = np.var(test_errors,ddof=1)"
   ]
  },
  {
   "cell_type": "code",
   "execution_count": 28,
   "metadata": {},
   "outputs": [
    {
     "data": {
      "text/plain": [
       "19.36761355818524"
      ]
     },
     "execution_count": 28,
     "metadata": {},
     "output_type": "execute_result"
    }
   ],
   "source": [
    "np.sqrt(mom_hs_samples_mse)"
   ]
  },
  {
   "cell_type": "code",
   "execution_count": 29,
   "metadata": {},
   "outputs": [
    {
     "data": {
      "text/plain": [
       "0.9844280531501347"
      ]
     },
     "execution_count": 29,
     "metadata": {},
     "output_type": "execute_result"
    }
   ],
   "source": [
    "mom_hs_samples_mse/test_df.kid_score.var()"
   ]
  },
  {
   "cell_type": "markdown",
   "metadata": {},
   "source": [
    "For such a simple problem,\n",
    "we don't get any benefit from using Bayesian methods.\n",
    "Worse still,\n",
    "the fact that our model is mis-specified probably hurts us more in this case."
   ]
  },
  {
   "cell_type": "markdown",
   "metadata": {},
   "source": [
    "One of the cool things about going Bayesian\n",
    "is that we get a real sense of how uncertain we are about our parameters,\n",
    "in a much more concrete way than is captured in a confidence interval.\n",
    "\n",
    "We simply need to look at the sampled values of the parameters."
   ]
  },
  {
   "cell_type": "code",
   "execution_count": 30,
   "metadata": {},
   "outputs": [],
   "source": [
    "betas = mom_hs_samples.extract('beta')['beta']"
   ]
  },
  {
   "cell_type": "code",
   "execution_count": 31,
   "metadata": {},
   "outputs": [
    {
     "data": {
      "image/png": "[encoded data removed]",
      "text/plain": [
       "<matplotlib.figure.Figure at 0x1a2170f4a8>"
      ]
     },
     "metadata": {},
     "output_type": "display_data"
    }
   ],
   "source": [
    "sns.jointplot(betas[:,0], betas[:,1], stat_func=None, joint_kws={\"alpha\":0.025});"
   ]
  },
  {
   "cell_type": "markdown",
   "metadata": {},
   "source": [
    "Note that we get a *joint* uncertainty!\n",
    "This is another aspect of uncertainty that is poorly captured by ML models and parametric stats\n",
    "(though we can recover it with bootstrapping)."
   ]
  },
  {
   "cell_type": "markdown",
   "metadata": {},
   "source": [
    "## Bayesian Regression in `stan`: Second Pass"
   ]
  },
  {
   "cell_type": "markdown",
   "metadata": {},
   "source": [
    "As models get more complicated,\n",
    "it will become ever more difficult to write equations that describe them.\n",
    "And further, the notation in equations is ill-suited to clearly specifying\n",
    "the components of a probabilistic model and their relationships.\n",
    "\n",
    "Enter *graphical models*,\n",
    "a visual, graph-based method for specifying probabilistic models.\n",
    "In brief,\n",
    "we assign a node to each of the random variables that are part of our model\n",
    "and then draw a directed edge between a variable that directly influences the distribution\n",
    "of another variable.\n",
    "\n",
    "For a\n",
    "short introduction to graphical models in the context of information theory,\n",
    "check out\n",
    "[this blog post](http://charlesfrye.github.io/stats/2017/09/26/discrete-channel-graph-model.html).\n",
    "For a\n",
    "more thorough introduction to graphical models and the associated variational perspective on inference,\n",
    "[see this monograph](https://people.eecs.berkeley.edu/~wainwrig/Papers/WaiJor08_FTML.pdf)."
   ]
  },
  {
   "cell_type": "markdown",
   "metadata": {},
   "source": [
    "What are the random variables in our model?\n",
    "The two most obvious ones are the ones we observe:\n",
    "$x$ and $y$.\n",
    "Because we want to write a model that predicts values of $y$ given values of $x$,\n",
    "we draw an edge from $x$ to $y$.\n",
    "\n",
    "Because we are being Bayesian,\n",
    "we also consider *the parameters of the model* to be random variables.\n",
    "That is, we frame our uncertainty about the true parameters of the model as\n",
    "a probability distribution over the space of possible parameters.\n",
    "\n",
    "That gives us one node for the $\\beta$ vector\n",
    "and one node for the variability of the residuals, $\\sigma$.\n",
    "\n",
    "The result is this model below:"
   ]
  },
  {
   "cell_type": "markdown",
   "metadata": {},
   "source": [
    "<img src=\"../graph_diagrams/linear_regression.png\" style=\"width: 300px;\"/>"
   ]
  },
  {
   "cell_type": "markdown",
   "metadata": {},
   "source": [
    "where the central box is called a \"plate\"\n",
    "and indicates that there are $N$ independent copies of the contents in our full model.\n",
    "Note that $\\beta$ and $\\sigma$ are outside the plate;\n",
    "that's because there is only one parameter set for all of our data,\n",
    "rather than different parameters for different subsets.\n",
    "\n",
    "The $x$ and $y$ nodes are colored in because we have access to the values of $x$ and $y$ for all $N$ data points;\n",
    "such variables are sometimes called *observed* or *visible* variables.\n",
    "The $\\beta$ and $\\sigma$ nodes are transparent because we do not have access to their true values;\n",
    "such variables are called *latent* or *hidden* variables."
   ]
  },
  {
   "cell_type": "markdown",
   "metadata": {},
   "source": [
    "In addition to specifying conditional distributions,\n",
    "we should specify marginal distributions over our parameters:\n",
    "ignoring the data, what is the chance that the parameter $\\beta_1$ is equal to a given value?\n",
    "\n",
    "These distributions are called *priors*, since they represent our prior knowledge.\n",
    "To recover the normal form of least squares regression,\n",
    "we should choose an *uninformative* or *flat* prior:\n",
    "each value is equally likely.\n",
    "Note that this causes some mathematical issues\n",
    "for parameters that take values on sets with infinite width, e.g. the whole real line or all positive integers,\n",
    "since the probability will drop to 0 as we spread attempt to spread it equally\n",
    "across more and more possibilities.\n",
    "This is called an *improper* prior.\n",
    "\n",
    "For now, impropriety doesn't cause us any problems,\n",
    "so we forge ahead."
   ]
  },
  {
   "cell_type": "markdown",
   "metadata": {},
   "source": [
    "We rewrite the `stan` model code to emphasize the graphical model structure."
   ]
  },
  {
   "cell_type": "code",
   "execution_count": 39,
   "metadata": {},
   "outputs": [],
   "source": [
    "data_code = \"\"\"data {\n",
    "  int<lower=0> N;\n",
    "  vector<lower=0, upper=200>[N] y;\n",
    "  vector<lower=0, upper=1>[N] x;\n",
    "}\"\"\"\n",
    "\n",
    "parameters_code = \"\"\"parameters {\n",
    "  vector[2] beta;\n",
    "  real<lower=0> sigma;\n",
    "}\"\"\"\n",
    "\n",
    "model_code = \"\"\"\n",
    "model { // encodes the edges in our graph\n",
    "  y ~ normal(beta[1] + beta[2] * x, sigma);\n",
    "}\"\"\""
   ]
  },
  {
   "cell_type": "code",
   "execution_count": 40,
   "metadata": {},
   "outputs": [
    {
     "name": "stderr",
     "output_type": "stream",
     "text": [
      "INFO:pystan:COMPILING THE C++ CODE FOR MODEL graphical_model_b2f6367c43d0e8f7c20ca17595e13fff NOW.\n"
     ]
    }
   ],
   "source": [
    "graphical_model_code = data_code+parameters_code+model_code\n",
    "\n",
    "graphical_stanmodel = pystan.StanModel(model_code=graphical_model_code, model_name='graphical_model')"
   ]
  },
  {
   "cell_type": "code",
   "execution_count": 41,
   "metadata": {},
   "outputs": [],
   "source": [
    "graphical_model_data = {'N': len(train_df),\n",
    "               'y': train_df.kid_score,\n",
    "              'x': train_df.mom_hs,\n",
    "              }"
   ]
  },
  {
   "cell_type": "code",
   "execution_count": 43,
   "metadata": {},
   "outputs": [
    {
     "name": "stderr",
     "output_type": "stream",
     "text": [
      "/Users/charlesfrye/anaconda3/envs/graph_models/lib/python3.6/site-packages/pystan/misc.py:399: FutureWarning: Conversion of the second argument of issubdtype from `float` to `np.floating` is deprecated. In future, it will be treated as `np.float64 == np.dtype(float).type`.\n",
      "  elif np.issubdtype(np.asarray(v).dtype, float):\n"
     ]
    }
   ],
   "source": [
    "samples = graphical_stanmodel.sampling(data=graphical_model_data, iter=1000, chains=4);"
   ]
  }
 ],
 "metadata": {
  "kernelspec": {
   "display_name": "Python 3",
   "language": "python",
   "name": "python3"
  },
  "language_info": {
   "codemirror_mode": {
    "name": "ipython",
    "version": 3
   },
   "file_extension": ".py",
   "mimetype": "text/x-python",
   "name": "python",
   "nbconvert_exporter": "python",
   "pygments_lexer": "ipython3",
   "version": "3.6.4"
  }
 },
 "nbformat": 4,
 "nbformat_minor": 2
}
