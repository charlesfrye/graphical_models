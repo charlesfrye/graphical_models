{
 "cells": [
  {
   "cell_type": "markdown",
   "metadata": {},
   "source": [
    "# 5.1 - Logistic Regression with a Single Predictor"
   ]
  },
  {
   "cell_type": "code",
   "execution_count": 1,
   "metadata": {},
   "outputs": [],
   "source": [
    "import pystan"
   ]
  },
  {
   "cell_type": "code",
   "execution_count": 2,
   "metadata": {},
   "outputs": [],
   "source": [
    "import statsmodels.formula.api as smf"
   ]
  },
  {
   "cell_type": "code",
   "execution_count": 24,
   "metadata": {},
   "outputs": [],
   "source": [
    "import numpy as np\n",
    "import pandas as pd\n",
    "import seaborn as sns\n",
    "import matplotlib.pyplot as plt\n",
    "\n",
    "sns.set(font_scale=2)"
   ]
  },
  {
   "cell_type": "code",
   "execution_count": 25,
   "metadata": {},
   "outputs": [],
   "source": [
    "%matplotlib inline"
   ]
  },
  {
   "cell_type": "markdown",
   "metadata": {},
   "source": [
    "## Loading and Cleaning the Data"
   ]
  },
  {
   "cell_type": "code",
   "execution_count": 26,
   "metadata": {},
   "outputs": [],
   "source": [
    "presvote_all = pd.read_csv(\"../ARM_Data/nes/nes5200_processed_voters_realideo.csv\", index_col = 0, low_memory=False)"
   ]
  },
  {
   "cell_type": "code",
   "execution_count": 6,
   "metadata": {},
   "outputs": [
    {
     "data": {
      "text/plain": [
       "Index(['year', 'resid', 'weight1', 'weight2', 'weight3', 'age', 'gender',\n",
       "       'race', 'educ1', 'urban', 'region', 'income', 'occup1', 'union',\n",
       "       'religion', 'educ2', 'educ3', 'martial_status', 'occup2', 'icpsr_cty',\n",
       "       'fips_cty', 'partyid7', 'partyid3', 'partyid3_b', 'str_partyid',\n",
       "       'father_party', 'mother_party', 'dlikes', 'rlikes', 'dem_therm',\n",
       "       'rep_therm', 'regis', 'vote', 'regisvote', 'presvote',\n",
       "       'presvote_2party', 'presvote_intent', 'ideo_feel', 'ideo7', 'ideo',\n",
       "       'cd', 'state', 'inter_pre', 'inter_post', 'black', 'female', 'age_sq',\n",
       "       'rep_presvote', 'rep_pres_intent', 'south', 'real_ideo', 'presapprov',\n",
       "       'perfin1', 'perfin2', 'perfin', 'presadm', 'age_10', 'age_sq_10',\n",
       "       'newfathe', 'newmoth', 'parent_party', 'white'],\n",
       "      dtype='object')"
      ]
     },
     "execution_count": 6,
     "metadata": {},
     "output_type": "execute_result"
    }
   ],
   "source": [
    "presvote_all.columns"
   ]
  },
  {
   "cell_type": "code",
   "execution_count": 7,
   "metadata": {},
   "outputs": [],
   "source": [
    "income_levels = presvote_all.income.unique()\n",
    "presvote_parties = presvote_all.presvote.unique()"
   ]
  },
  {
   "cell_type": "code",
   "execution_count": 8,
   "metadata": {},
   "outputs": [],
   "source": [
    "def get_index(string):\n",
    "    if type(string) is float:\n",
    "        assert string is np.nan\n",
    "        return np.nan\n",
    "    split_string = string.split(\". \")\n",
    "    index = split_string[0]\n",
    "    return index\n",
    "\n",
    "def get_string_identifer(string):\n",
    "    if type(string) is float:\n",
    "        assert string is np.nan\n",
    "        return np.nan\n",
    "    split_string = string.split(\". \")\n",
    "    string_identifier = split_string[1]\n",
    "    return string_identifier\n",
    "\n",
    "def make_map_dictionary(strings):\n",
    "    keys = [get_index(string) for string in strings]\n",
    "    values = [get_string_identifer(string) for string in strings]\n",
    "    \n",
    "    map_dictionary = dict(zip(keys, values))\n",
    "    \n",
    "    return map_dictionary"
   ]
  },
  {
   "cell_type": "code",
   "execution_count": 32,
   "metadata": {},
   "outputs": [],
   "source": [
    "income_dictionary = make_map_dictionary(income_levels)\n",
    "presvote_dictionary = make_map_dictionary(presvote_parties)\n",
    "\n",
    "sorted_income_identifier_strings = sorted(get_string_identifer(income_string) for income_string in income_levels\n",
    "                                         if income_string is not np.nan)"
   ]
  },
  {
   "cell_type": "code",
   "execution_count": 10,
   "metadata": {},
   "outputs": [],
   "source": [
    "presvote_select = pd.DataFrame()"
   ]
  },
  {
   "cell_type": "code",
   "execution_count": 11,
   "metadata": {},
   "outputs": [],
   "source": [
    "presvote_select[\"income_index\"] = presvote_all.income.apply(get_index)\n",
    "\n",
    "# presvote_select[\"income_class\"] = presvote_all.income.apply(get_income_class) #alternative method\n",
    "presvote_select[\"income_class\"] = presvote_select.income_index.map(income_dictionary)"
   ]
  },
  {
   "cell_type": "code",
   "execution_count": 12,
   "metadata": {},
   "outputs": [],
   "source": [
    "presvote_select[\"presvote_index\"] = presvote_all.presvote.apply(get_index)\n",
    "presvote_select[\"presvote_party\"] = presvote_select.presvote_index.map(presvote_dictionary)"
   ]
  },
  {
   "cell_type": "code",
   "execution_count": 15,
   "metadata": {},
   "outputs": [],
   "source": [
    "presvote_select = presvote_select.dropna()"
   ]
  },
  {
   "cell_type": "code",
   "execution_count": 51,
   "metadata": {},
   "outputs": [],
   "source": [
    "presvote_select = presvote_select[~presvote_select.presvote_party.str.contains(\"third party\")]"
   ]
  },
  {
   "cell_type": "code",
   "execution_count": 65,
   "metadata": {},
   "outputs": [],
   "source": [
    "presvote_select.income_index = presvote_select.income_index.astype(int)\n",
    "presvote_select.presvote_index = presvote_select.presvote_index.astype(int) -1"
   ]
  },
  {
   "cell_type": "code",
   "execution_count": 66,
   "metadata": {},
   "outputs": [
    {
     "data": {
      "text/html": [
       "<div>\n",
       "<style scoped>\n",
       "    .dataframe tbody tr th:only-of-type {\n",
       "        vertical-align: middle;\n",
       "    }\n",
       "\n",
       "    .dataframe tbody tr th {\n",
       "        vertical-align: top;\n",
       "    }\n",
       "\n",
       "    .dataframe thead th {\n",
       "        text-align: right;\n",
       "    }\n",
       "</style>\n",
       "<table border=\"1\" class=\"dataframe\">\n",
       "  <thead>\n",
       "    <tr style=\"text-align: right;\">\n",
       "      <th></th>\n",
       "      <th>income_index</th>\n",
       "      <th>income_class</th>\n",
       "      <th>presvote_index</th>\n",
       "      <th>presvote_party</th>\n",
       "    </tr>\n",
       "  </thead>\n",
       "  <tbody>\n",
       "    <tr>\n",
       "      <th>36907</th>\n",
       "      <td>1</td>\n",
       "      <td>0 to 16 percentile</td>\n",
       "      <td>0</td>\n",
       "      <td>democrat</td>\n",
       "    </tr>\n",
       "    <tr>\n",
       "      <th>32109</th>\n",
       "      <td>4</td>\n",
       "      <td>68 to 95 percentile</td>\n",
       "      <td>1</td>\n",
       "      <td>republican</td>\n",
       "    </tr>\n",
       "    <tr>\n",
       "      <th>3821</th>\n",
       "      <td>4</td>\n",
       "      <td>68 to 95 percentile</td>\n",
       "      <td>1</td>\n",
       "      <td>republican</td>\n",
       "    </tr>\n",
       "    <tr>\n",
       "      <th>18718</th>\n",
       "      <td>1</td>\n",
       "      <td>0 to 16 percentile</td>\n",
       "      <td>0</td>\n",
       "      <td>democrat</td>\n",
       "    </tr>\n",
       "    <tr>\n",
       "      <th>723</th>\n",
       "      <td>4</td>\n",
       "      <td>68 to 95 percentile</td>\n",
       "      <td>0</td>\n",
       "      <td>democrat</td>\n",
       "    </tr>\n",
       "    <tr>\n",
       "      <th>18441</th>\n",
       "      <td>4</td>\n",
       "      <td>68 to 95 percentile</td>\n",
       "      <td>0</td>\n",
       "      <td>democrat</td>\n",
       "    </tr>\n",
       "    <tr>\n",
       "      <th>3585</th>\n",
       "      <td>3</td>\n",
       "      <td>34 to 67 percentile</td>\n",
       "      <td>1</td>\n",
       "      <td>republican</td>\n",
       "    </tr>\n",
       "    <tr>\n",
       "      <th>1626</th>\n",
       "      <td>4</td>\n",
       "      <td>68 to 95 percentile</td>\n",
       "      <td>0</td>\n",
       "      <td>democrat</td>\n",
       "    </tr>\n",
       "    <tr>\n",
       "      <th>664</th>\n",
       "      <td>4</td>\n",
       "      <td>68 to 95 percentile</td>\n",
       "      <td>0</td>\n",
       "      <td>democrat</td>\n",
       "    </tr>\n",
       "    <tr>\n",
       "      <th>25746</th>\n",
       "      <td>3</td>\n",
       "      <td>34 to 67 percentile</td>\n",
       "      <td>1</td>\n",
       "      <td>republican</td>\n",
       "    </tr>\n",
       "  </tbody>\n",
       "</table>\n",
       "</div>"
      ],
      "text/plain": [
       "       income_index         income_class  presvote_index presvote_party\n",
       "36907             1   0 to 16 percentile               0       democrat\n",
       "32109             4  68 to 95 percentile               1     republican\n",
       "3821              4  68 to 95 percentile               1     republican\n",
       "18718             1   0 to 16 percentile               0       democrat\n",
       "723               4  68 to 95 percentile               0       democrat\n",
       "18441             4  68 to 95 percentile               0       democrat\n",
       "3585              3  34 to 67 percentile               1     republican\n",
       "1626              4  68 to 95 percentile               0       democrat\n",
       "664               4  68 to 95 percentile               0       democrat\n",
       "25746             3  34 to 67 percentile               1     republican"
      ]
     },
     "execution_count": 66,
     "metadata": {},
     "output_type": "execute_result"
    }
   ],
   "source": [
    "presvote_select.sample(10)"
   ]
  },
  {
   "cell_type": "markdown",
   "metadata": {},
   "source": [
    "## Visualizing the Data"
   ]
  },
  {
   "cell_type": "code",
   "execution_count": 67,
   "metadata": {},
   "outputs": [
    {
     "data": {
      "image/png": "[encoded data removed]",
      "text/plain": [
       "<matplotlib.figure.Figure at 0x1a0b451048>"
      ]
     },
     "metadata": {},
     "output_type": "display_data"
    }
   ],
   "source": [
    "plt.figure(figsize=(16,6))\n",
    "\n",
    "with sns.color_palette(sns.diverging_palette(220, 10, sep=80, n=2)):\n",
    "    sns.countplot(\"income_class\", hue=\"presvote_party\", data=presvote_select,\n",
    "              order = sorted_income_identifier_strings,);"
   ]
  },
  {
   "cell_type": "markdown",
   "metadata": {},
   "source": [
    "## Running Logistic Regression with `statsmodels`"
   ]
  },
  {
   "cell_type": "code",
   "execution_count": 68,
   "metadata": {},
   "outputs": [],
   "source": [
    "presvote_income_logit = smf.logit(\"presvote_index ~ income_index\", data = presvote_select)"
   ]
  },
  {
   "cell_type": "code",
   "execution_count": 70,
   "metadata": {},
   "outputs": [
    {
     "name": "stdout",
     "output_type": "stream",
     "text": [
      "Optimization terminated successfully.\n",
      "         Current function value: 0.683838\n",
      "         Iterations 4\n"
     ]
    }
   ],
   "source": [
    "results = presvote_income_logit.fit()"
   ]
  },
  {
   "cell_type": "code",
   "execution_count": 74,
   "metadata": {},
   "outputs": [
    {
     "data": {
      "text/html": [
       "<table class=\"simpletable\">\n",
       "<tr>\n",
       "        <td>Model:</td>              <td>Logit</td>       <td>No. Iterations:</td>    <td>4.0000</td>  \n",
       "</tr>\n",
       "<tr>\n",
       "  <td>Dependent Variable:</td>  <td>presvote_index</td>  <td>Pseudo R-squared:</td>    <td>0.013</td>  \n",
       "</tr>\n",
       "<tr>\n",
       "         <td>Date:</td>        <td>2018-03-04 22:21</td>       <td>AIC:</td>        <td>19560.4016</td>\n",
       "</tr>\n",
       "<tr>\n",
       "   <td>No. Observations:</td>        <td>14299</td>            <td>BIC:</td>        <td>19575.5375</td>\n",
       "</tr>\n",
       "<tr>\n",
       "       <td>Df Model:</td>              <td>1</td>         <td>Log-Likelihood:</td>    <td>-9778.2</td> \n",
       "</tr>\n",
       "<tr>\n",
       "     <td>Df Residuals:</td>          <td>14297</td>          <td>LL-Null:</td>        <td>-9905.0</td> \n",
       "</tr>\n",
       "<tr>\n",
       "      <td>Converged:</td>           <td>1.0000</td>           <td>Scale:</td>         <td>1.0000</td>  \n",
       "</tr>\n",
       "</table>\n",
       "<table class=\"simpletable\">\n",
       "<tr>\n",
       "        <td></td>        <th>Coef.</th>  <th>Std.Err.</th>     <th>z</th>     <th>P>|z|</th> <th>[0.025</th>  <th>0.975]</th> \n",
       "</tr>\n",
       "<tr>\n",
       "  <th>Intercept</th>    <td>-0.6795</td>  <td>0.0498</td>  <td>-13.6382</td> <td>0.0000</td> <td>-0.7771</td> <td>-0.5818</td>\n",
       "</tr>\n",
       "<tr>\n",
       "  <th>income_index</th> <td>0.2406</td>   <td>0.0153</td>   <td>15.7666</td> <td>0.0000</td> <td>0.2107</td>  <td>0.2705</td> \n",
       "</tr>\n",
       "</table>"
      ],
      "text/plain": [
       "<class 'statsmodels.iolib.summary2.Summary'>\n",
       "\"\"\"\n",
       "                         Results: Logit\n",
       "=================================================================\n",
       "Model:              Logit            No. Iterations:   4.0000    \n",
       "Dependent Variable: presvote_index   Pseudo R-squared: 0.013     \n",
       "Date:               2018-03-04 22:21 AIC:              19560.4016\n",
       "No. Observations:   14299            BIC:              19575.5375\n",
       "Df Model:           1                Log-Likelihood:   -9778.2   \n",
       "Df Residuals:       14297            LL-Null:          -9905.0   \n",
       "Converged:          1.0000           Scale:            1.0000    \n",
       "-----------------------------------------------------------------\n",
       "                  Coef.  Std.Err.    z     P>|z|   [0.025  0.975]\n",
       "-----------------------------------------------------------------\n",
       "Intercept        -0.6795   0.0498 -13.6382 0.0000 -0.7771 -0.5818\n",
       "income_index      0.2406   0.0153  15.7666 0.0000  0.2107  0.2705\n",
       "=================================================================\n",
       "\n",
       "\"\"\""
      ]
     },
     "execution_count": 74,
     "metadata": {},
     "output_type": "execute_result"
    }
   ],
   "source": [
    "results.summary2()"
   ]
  }
 ],
 "metadata": {
  "kernelspec": {
   "display_name": "Python 3",
   "language": "python",
   "name": "python3"
  },
  "language_info": {
   "codemirror_mode": {
    "name": "ipython",
    "version": 3
   },
   "file_extension": ".py",
   "mimetype": "text/x-python",
   "name": "python",
   "nbconvert_exporter": "python",
   "pygments_lexer": "ipython3",
   "version": "3.6.4"
  }
 },
 "nbformat": 4,
 "nbformat_minor": 2
}
